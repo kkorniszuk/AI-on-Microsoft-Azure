{
  "cells": [
    {
      "cell_type": "markdown",
      "source": [
        "Zbiór danych z którymi pracowałem zamieściłem na GH. \n",
        "W celu stworzenia odpowiednich zasobów poczyniłem następne kroki na platformie Azure: \n",
        "\n",
        "1. Zalogowanie się na AML wraz ze stworzeniem zasobu\n",
        "\n",
        "2. Pobranie odpowiedniego zbioru danych \n",
        "\n",
        "3. Stworzenie zasobów obliczeniowych Compute Instances i Compute Clusters\n",
        "\n",
        "4. Załadowanie danych jako dataset\n",
        "\n",
        "5. Stworzenie pliku .ipynb jako Notebooka\n",
        "\n",
        "Inspirowałem się plikiem z githuba który był w opisie laboratorium. \n",
        "\n",
        "\n",
        "Poniżej znajduje się dokładny flow operacji do zbadania działania modelu. Z uwagi na potwarzający się wielokrotnie błąd: \n",
        "\n",
        "``ModuleNotFoundError: No module named 'azureml.automl.runtime._ml_engine.featurizer_suggestion'``\n",
        "podczas określania najlepszego modelu, nie udało mi się wykonać całego zaplanowanego laboratorium. \n",
        "\n",
        "W celu naprawy usterki wykonałem następujące kroki:\n",
        "\n",
        "1. Upgrade paczek za pomocą menadżera ``pip`` - udało mi się zrobić update SDK z 1.19 do wersji 1.21. \n",
        "\n",
        "2. Restart wszystkich zasobów związanych z serwisem. \n",
        "\n",
        "3. Stworzenie nowego zbiou danych i notebooka \n",
        "\n",
        "4. Upewnienie się czy wersja SDK której używa notebook jest aktualna. \n",
        "\n",
        "\n",
        "Poniżej znajduje się dokładny flow operacji. Zasoby utworzone są na moim profilu na Azure. "
      ],
      "metadata": {
        "nteract": {
          "transient": {
            "deleting": false
          }
        }
      }
    },
    {
      "cell_type": "code",
      "source": [
        "import azureml.core\n",
        "from azureml.core import Workspace, Dataset\n",
        "ws = Workspace.from_config()"
      ],
      "outputs": [],
      "execution_count": 3,
      "metadata": {
        "gather": {
          "logged": 1611753457343
        }
      }
    },
    {
      "cell_type": "markdown",
      "source": [
        "Po stworzeniu workspace i załadowaniu podstawowych paczek przechodzę do załadowania danych z przesłanego wcześniej pliku. "
      ],
      "metadata": {
        "nteract": {
          "transient": {
            "deleting": false
          }
        }
      }
    },
    {
      "cell_type": "code",
      "source": [
        "aml_dataset = ws.datasets['covid']\n",
        "# Use Pandas DataFrame just to sneak peak some data and schema\n",
        "full_df = aml_dataset.to_pandas_dataframe()\n",
        "# .to_pandas_dataframe().dropna()\n",
        "full_df.head()"
      ],
      "outputs": [
        {
          "output_type": "execute_result",
          "execution_count": 5,
          "data": {
            "text/plain": "  iso_code continent     location       date  total_cases  new_cases  \\\n0      AFG      Asia  Afghanistan 2020-02-24          1.0        1.0   \n1      AFG      Asia  Afghanistan 2020-02-25          1.0        0.0   \n2      AFG      Asia  Afghanistan 2020-02-26          1.0        0.0   \n3      AFG      Asia  Afghanistan 2020-02-27          1.0        0.0   \n4      AFG      Asia  Afghanistan 2020-02-28          1.0        0.0   \n\n   new_cases_smoothed  total_deaths  new_deaths  new_deaths_smoothed  ...  \\\n0                 NaN           NaN         NaN                  NaN  ...   \n1                 NaN           NaN         NaN                  NaN  ...   \n2                 NaN           NaN         NaN                  NaN  ...   \n3                 NaN           NaN         NaN                  NaN  ...   \n4                 NaN           NaN         NaN                  NaN  ...   \n\n   gdp_per_capita  extreme_poverty  cardiovasc_death_rate  \\\n0        1803.987             None                597.029   \n1        1803.987             None                597.029   \n2        1803.987             None                597.029   \n3        1803.987             None                597.029   \n4        1803.987             None                597.029   \n\n   diabetes_prevalence  female_smokers  male_smokers  handwashing_facilities  \\\n0                 9.59            None          None                  37.746   \n1                 9.59            None          None                  37.746   \n2                 9.59            None          None                  37.746   \n3                 9.59            None          None                  37.746   \n4                 9.59            None          None                  37.746   \n\n  hospital_beds_per_thousand life_expectancy human_development_index  \n0                        0.5           64.83                   0.498  \n1                        0.5           64.83                   0.498  \n2                        0.5           64.83                   0.498  \n3                        0.5           64.83                   0.498  \n4                        0.5           64.83                   0.498  \n\n[5 rows x 55 columns]",
            "text/html": "<div>\n<style scoped>\n    .dataframe tbody tr th:only-of-type {\n        vertical-align: middle;\n    }\n\n    .dataframe tbody tr th {\n        vertical-align: top;\n    }\n\n    .dataframe thead th {\n        text-align: right;\n    }\n</style>\n<table border=\"1\" class=\"dataframe\">\n  <thead>\n    <tr style=\"text-align: right;\">\n      <th></th>\n      <th>iso_code</th>\n      <th>continent</th>\n      <th>location</th>\n      <th>date</th>\n      <th>total_cases</th>\n      <th>new_cases</th>\n      <th>new_cases_smoothed</th>\n      <th>total_deaths</th>\n      <th>new_deaths</th>\n      <th>new_deaths_smoothed</th>\n      <th>...</th>\n      <th>gdp_per_capita</th>\n      <th>extreme_poverty</th>\n      <th>cardiovasc_death_rate</th>\n      <th>diabetes_prevalence</th>\n      <th>female_smokers</th>\n      <th>male_smokers</th>\n      <th>handwashing_facilities</th>\n      <th>hospital_beds_per_thousand</th>\n      <th>life_expectancy</th>\n      <th>human_development_index</th>\n    </tr>\n  </thead>\n  <tbody>\n    <tr>\n      <th>0</th>\n      <td>AFG</td>\n      <td>Asia</td>\n      <td>Afghanistan</td>\n      <td>2020-02-24</td>\n      <td>1.0</td>\n      <td>1.0</td>\n      <td>NaN</td>\n      <td>NaN</td>\n      <td>NaN</td>\n      <td>NaN</td>\n      <td>...</td>\n      <td>1803.987</td>\n      <td>None</td>\n      <td>597.029</td>\n      <td>9.59</td>\n      <td>None</td>\n      <td>None</td>\n      <td>37.746</td>\n      <td>0.5</td>\n      <td>64.83</td>\n      <td>0.498</td>\n    </tr>\n    <tr>\n      <th>1</th>\n      <td>AFG</td>\n      <td>Asia</td>\n      <td>Afghanistan</td>\n      <td>2020-02-25</td>\n      <td>1.0</td>\n      <td>0.0</td>\n      <td>NaN</td>\n      <td>NaN</td>\n      <td>NaN</td>\n      <td>NaN</td>\n      <td>...</td>\n      <td>1803.987</td>\n      <td>None</td>\n      <td>597.029</td>\n      <td>9.59</td>\n      <td>None</td>\n      <td>None</td>\n      <td>37.746</td>\n      <td>0.5</td>\n      <td>64.83</td>\n      <td>0.498</td>\n    </tr>\n    <tr>\n      <th>2</th>\n      <td>AFG</td>\n      <td>Asia</td>\n      <td>Afghanistan</td>\n      <td>2020-02-26</td>\n      <td>1.0</td>\n      <td>0.0</td>\n      <td>NaN</td>\n      <td>NaN</td>\n      <td>NaN</td>\n      <td>NaN</td>\n      <td>...</td>\n      <td>1803.987</td>\n      <td>None</td>\n      <td>597.029</td>\n      <td>9.59</td>\n      <td>None</td>\n      <td>None</td>\n      <td>37.746</td>\n      <td>0.5</td>\n      <td>64.83</td>\n      <td>0.498</td>\n    </tr>\n    <tr>\n      <th>3</th>\n      <td>AFG</td>\n      <td>Asia</td>\n      <td>Afghanistan</td>\n      <td>2020-02-27</td>\n      <td>1.0</td>\n      <td>0.0</td>\n      <td>NaN</td>\n      <td>NaN</td>\n      <td>NaN</td>\n      <td>NaN</td>\n      <td>...</td>\n      <td>1803.987</td>\n      <td>None</td>\n      <td>597.029</td>\n      <td>9.59</td>\n      <td>None</td>\n      <td>None</td>\n      <td>37.746</td>\n      <td>0.5</td>\n      <td>64.83</td>\n      <td>0.498</td>\n    </tr>\n    <tr>\n      <th>4</th>\n      <td>AFG</td>\n      <td>Asia</td>\n      <td>Afghanistan</td>\n      <td>2020-02-28</td>\n      <td>1.0</td>\n      <td>0.0</td>\n      <td>NaN</td>\n      <td>NaN</td>\n      <td>NaN</td>\n      <td>NaN</td>\n      <td>...</td>\n      <td>1803.987</td>\n      <td>None</td>\n      <td>597.029</td>\n      <td>9.59</td>\n      <td>None</td>\n      <td>None</td>\n      <td>37.746</td>\n      <td>0.5</td>\n      <td>64.83</td>\n      <td>0.498</td>\n    </tr>\n  </tbody>\n</table>\n<p>5 rows × 55 columns</p>\n</div>"
          },
          "metadata": {}
        }
      ],
      "execution_count": 5,
      "metadata": {
        "collapsed": true,
        "jupyter": {
          "source_hidden": false,
          "outputs_hidden": false
        },
        "nteract": {
          "transient": {
            "deleting": false
          }
        },
        "gather": {
          "logged": 1611753491954
        }
      }
    },
    {
      "cell_type": "code",
      "source": [
        "full_df.describe()\n"
      ],
      "outputs": [
        {
          "output_type": "execute_result",
          "execution_count": 6,
          "data": {
            "text/plain": "        total_cases      new_cases  new_cases_smoothed  total_deaths  \\\ncount  6.145000e+04   61443.000000        60484.000000  5.291300e+04   \nmean   3.202574e+05    3202.012369         3195.428938  1.022976e+04   \nstd    3.152440e+06   28435.125924        28092.605460  8.195278e+04   \nmin    1.000000e+00  -46076.000000        -1121.714000  1.000000e+00   \n25%    5.090000e+02       1.000000            4.429000  2.800000e+01   \n50%    5.316000e+03      43.000000           52.928500  1.630000e+02   \n75%    5.428400e+04     492.000000          524.143000  1.485000e+03   \nmax    9.919440e+07  856352.000000       738108.429000  2.129409e+06   \n\n         new_deaths  new_deaths_smoothed  total_cases_per_million  \\\ncount  52912.000000         60484.000000             61097.000000   \nmean      80.488056            69.064089              5553.759014   \nstd      600.016639           538.278972             11279.237872   \nmin    -1918.000000          -232.143000                 0.001000   \n25%        0.000000             0.000000               106.391000   \n50%        1.000000             0.714000               823.673000   \n75%       11.000000             8.714000              5147.281000   \nmax    17817.000000         14082.571000            123587.653000   \n\n       new_cases_per_million  new_cases_smoothed_per_million  \\\ncount           61090.000000                    60136.000000   \nmean               59.798426                       59.592909   \nstd               165.517508                      137.326083   \nmin             -2153.437000                     -276.825000   \n25%                 0.069000                        0.823000   \n50%                 4.912000                        6.621000   \n75%                44.831500                       49.919250   \nmax              8652.658000                     2648.773000   \n\n       total_deaths_per_million  ...    median_age  aged_65_older  \\\ncount              52573.000000  ...  59046.000000   58362.000000   \nmean                 137.536739  ...     30.620154       8.838208   \nstd                  254.602912  ...      9.120537       6.254834   \nmin                    0.001000  ...     15.100000       1.144000   \n25%                    4.777000  ...     22.200000       3.466000   \n50%                   24.359000  ...     29.900000       6.614000   \n75%                  127.701000  ...     39.100000      14.312000   \nmax                 1915.257000  ...     48.200000      27.049000   \n\n       aged_70_older  gdp_per_capita  cardiovasc_death_rate  \\\ncount   58711.000000    59082.000000           59683.000000   \nmean        5.603401    19179.028279             256.331253   \nstd         4.272178    19665.274056             118.125481   \nmin         0.526000      661.240000              79.370000   \n25%         2.043000     4541.795000             164.905000   \n50%         3.871000    13111.214000             241.219000   \n75%         9.167000    27216.445000             325.721000   \nmax        18.493000   116935.600000             724.417000   \n\n       diabetes_prevalence  handwashing_facilities  \\\ncount         60386.000000            29888.000000   \nmean              7.770147               51.116083   \nstd               3.895157               31.773684   \nmin               0.990000                1.188000   \n25%               5.290000               20.859000   \n50%               7.110000               49.839000   \n75%              10.080000               83.241000   \nmax              30.530000               98.999000   \n\n       hospital_beds_per_thousand  life_expectancy  human_development_index  \ncount                54816.000000     61395.000000             59347.000000  \nmean                     3.041553        73.139299                 0.715704  \nstd                      2.470955         7.549240                 0.153772  \nmin                      0.100000        53.280000                 0.354000  \n25%                      1.300000        67.440000                 0.590000  \n50%                      2.400000        74.620000                 0.747000  \n75%                      4.000000        78.570000                 0.843000  \nmax                     13.800000        86.750000                 0.953000  \n\n[8 rows x 26 columns]",
            "text/html": "<div>\n<style scoped>\n    .dataframe tbody tr th:only-of-type {\n        vertical-align: middle;\n    }\n\n    .dataframe tbody tr th {\n        vertical-align: top;\n    }\n\n    .dataframe thead th {\n        text-align: right;\n    }\n</style>\n<table border=\"1\" class=\"dataframe\">\n  <thead>\n    <tr style=\"text-align: right;\">\n      <th></th>\n      <th>total_cases</th>\n      <th>new_cases</th>\n      <th>new_cases_smoothed</th>\n      <th>total_deaths</th>\n      <th>new_deaths</th>\n      <th>new_deaths_smoothed</th>\n      <th>total_cases_per_million</th>\n      <th>new_cases_per_million</th>\n      <th>new_cases_smoothed_per_million</th>\n      <th>total_deaths_per_million</th>\n      <th>...</th>\n      <th>median_age</th>\n      <th>aged_65_older</th>\n      <th>aged_70_older</th>\n      <th>gdp_per_capita</th>\n      <th>cardiovasc_death_rate</th>\n      <th>diabetes_prevalence</th>\n      <th>handwashing_facilities</th>\n      <th>hospital_beds_per_thousand</th>\n      <th>life_expectancy</th>\n      <th>human_development_index</th>\n    </tr>\n  </thead>\n  <tbody>\n    <tr>\n      <th>count</th>\n      <td>6.145000e+04</td>\n      <td>61443.000000</td>\n      <td>60484.000000</td>\n      <td>5.291300e+04</td>\n      <td>52912.000000</td>\n      <td>60484.000000</td>\n      <td>61097.000000</td>\n      <td>61090.000000</td>\n      <td>60136.000000</td>\n      <td>52573.000000</td>\n      <td>...</td>\n      <td>59046.000000</td>\n      <td>58362.000000</td>\n      <td>58711.000000</td>\n      <td>59082.000000</td>\n      <td>59683.000000</td>\n      <td>60386.000000</td>\n      <td>29888.000000</td>\n      <td>54816.000000</td>\n      <td>61395.000000</td>\n      <td>59347.000000</td>\n    </tr>\n    <tr>\n      <th>mean</th>\n      <td>3.202574e+05</td>\n      <td>3202.012369</td>\n      <td>3195.428938</td>\n      <td>1.022976e+04</td>\n      <td>80.488056</td>\n      <td>69.064089</td>\n      <td>5553.759014</td>\n      <td>59.798426</td>\n      <td>59.592909</td>\n      <td>137.536739</td>\n      <td>...</td>\n      <td>30.620154</td>\n      <td>8.838208</td>\n      <td>5.603401</td>\n      <td>19179.028279</td>\n      <td>256.331253</td>\n      <td>7.770147</td>\n      <td>51.116083</td>\n      <td>3.041553</td>\n      <td>73.139299</td>\n      <td>0.715704</td>\n    </tr>\n    <tr>\n      <th>std</th>\n      <td>3.152440e+06</td>\n      <td>28435.125924</td>\n      <td>28092.605460</td>\n      <td>8.195278e+04</td>\n      <td>600.016639</td>\n      <td>538.278972</td>\n      <td>11279.237872</td>\n      <td>165.517508</td>\n      <td>137.326083</td>\n      <td>254.602912</td>\n      <td>...</td>\n      <td>9.120537</td>\n      <td>6.254834</td>\n      <td>4.272178</td>\n      <td>19665.274056</td>\n      <td>118.125481</td>\n      <td>3.895157</td>\n      <td>31.773684</td>\n      <td>2.470955</td>\n      <td>7.549240</td>\n      <td>0.153772</td>\n    </tr>\n    <tr>\n      <th>min</th>\n      <td>1.000000e+00</td>\n      <td>-46076.000000</td>\n      <td>-1121.714000</td>\n      <td>1.000000e+00</td>\n      <td>-1918.000000</td>\n      <td>-232.143000</td>\n      <td>0.001000</td>\n      <td>-2153.437000</td>\n      <td>-276.825000</td>\n      <td>0.001000</td>\n      <td>...</td>\n      <td>15.100000</td>\n      <td>1.144000</td>\n      <td>0.526000</td>\n      <td>661.240000</td>\n      <td>79.370000</td>\n      <td>0.990000</td>\n      <td>1.188000</td>\n      <td>0.100000</td>\n      <td>53.280000</td>\n      <td>0.354000</td>\n    </tr>\n    <tr>\n      <th>25%</th>\n      <td>5.090000e+02</td>\n      <td>1.000000</td>\n      <td>4.429000</td>\n      <td>2.800000e+01</td>\n      <td>0.000000</td>\n      <td>0.000000</td>\n      <td>106.391000</td>\n      <td>0.069000</td>\n      <td>0.823000</td>\n      <td>4.777000</td>\n      <td>...</td>\n      <td>22.200000</td>\n      <td>3.466000</td>\n      <td>2.043000</td>\n      <td>4541.795000</td>\n      <td>164.905000</td>\n      <td>5.290000</td>\n      <td>20.859000</td>\n      <td>1.300000</td>\n      <td>67.440000</td>\n      <td>0.590000</td>\n    </tr>\n    <tr>\n      <th>50%</th>\n      <td>5.316000e+03</td>\n      <td>43.000000</td>\n      <td>52.928500</td>\n      <td>1.630000e+02</td>\n      <td>1.000000</td>\n      <td>0.714000</td>\n      <td>823.673000</td>\n      <td>4.912000</td>\n      <td>6.621000</td>\n      <td>24.359000</td>\n      <td>...</td>\n      <td>29.900000</td>\n      <td>6.614000</td>\n      <td>3.871000</td>\n      <td>13111.214000</td>\n      <td>241.219000</td>\n      <td>7.110000</td>\n      <td>49.839000</td>\n      <td>2.400000</td>\n      <td>74.620000</td>\n      <td>0.747000</td>\n    </tr>\n    <tr>\n      <th>75%</th>\n      <td>5.428400e+04</td>\n      <td>492.000000</td>\n      <td>524.143000</td>\n      <td>1.485000e+03</td>\n      <td>11.000000</td>\n      <td>8.714000</td>\n      <td>5147.281000</td>\n      <td>44.831500</td>\n      <td>49.919250</td>\n      <td>127.701000</td>\n      <td>...</td>\n      <td>39.100000</td>\n      <td>14.312000</td>\n      <td>9.167000</td>\n      <td>27216.445000</td>\n      <td>325.721000</td>\n      <td>10.080000</td>\n      <td>83.241000</td>\n      <td>4.000000</td>\n      <td>78.570000</td>\n      <td>0.843000</td>\n    </tr>\n    <tr>\n      <th>max</th>\n      <td>9.919440e+07</td>\n      <td>856352.000000</td>\n      <td>738108.429000</td>\n      <td>2.129409e+06</td>\n      <td>17817.000000</td>\n      <td>14082.571000</td>\n      <td>123587.653000</td>\n      <td>8652.658000</td>\n      <td>2648.773000</td>\n      <td>1915.257000</td>\n      <td>...</td>\n      <td>48.200000</td>\n      <td>27.049000</td>\n      <td>18.493000</td>\n      <td>116935.600000</td>\n      <td>724.417000</td>\n      <td>30.530000</td>\n      <td>98.999000</td>\n      <td>13.800000</td>\n      <td>86.750000</td>\n      <td>0.953000</td>\n    </tr>\n  </tbody>\n</table>\n<p>8 rows × 26 columns</p>\n</div>"
          },
          "metadata": {}
        }
      ],
      "execution_count": 6,
      "metadata": {
        "collapsed": true,
        "jupyter": {
          "source_hidden": false,
          "outputs_hidden": false
        },
        "nteract": {
          "transient": {
            "deleting": false
          }
        },
        "gather": {
          "logged": 1611753494351
        }
      }
    },
    {
      "cell_type": "markdown",
      "source": [
        "Tworzę zbiory testowe i treningowe dla modelu."
      ],
      "metadata": {
        "nteract": {
          "transient": {
            "deleting": false
          }
        }
      }
    },
    {
      "cell_type": "code",
      "source": [
        "train_dataset, test_dataset = aml_dataset.random_split(0.8, seed=1)\n",
        "\n",
        "train_dataset_df = train_dataset.to_pandas_dataframe()\n",
        "test_dataset_df = test_dataset.to_pandas_dataframe()\n",
        "\n",
        "print(train_dataset_df.describe())"
      ],
      "outputs": [
        {
          "output_type": "stream",
          "name": "stdout",
          "text": [
            "        total_cases      new_cases  new_cases_smoothed  total_deaths  \\\n",
            "count  4.929400e+04   49288.000000        48548.000000  4.250300e+04   \n",
            "mean   3.182305e+05    3149.882385         3155.875921  1.014245e+04   \n",
            "std    3.155530e+06   28067.280612        27955.619269  8.190531e+04   \n",
            "min    1.000000e+00  -46076.000000        -1121.714000  1.000000e+00   \n",
            "25%    5.090000e+02       1.000000            4.429000  2.800000e+01   \n",
            "50%    5.360500e+03      43.000000           52.857000  1.630000e+02   \n",
            "75%    5.403600e+04     490.000000          522.606750  1.468000e+03   \n",
            "max    9.919440e+07  856352.000000       738108.429000  2.129409e+06   \n",
            "\n",
            "         new_deaths  new_deaths_smoothed  total_cases_per_million  \\\n",
            "count  42503.000000         48548.000000             49003.000000   \n",
            "mean      78.813519            67.916387              5554.034022   \n",
            "std      591.910739           534.740354             11306.429131   \n",
            "min    -1918.000000          -232.143000                 0.001000   \n",
            "25%        0.000000             0.000000               106.345000   \n",
            "50%        1.000000             0.714000               823.120000   \n",
            "75%       11.000000             8.714000              5129.934500   \n",
            "max    17817.000000         14082.571000            123587.653000   \n",
            "\n",
            "       new_cases_per_million  new_cases_smoothed_per_million  \\\n",
            "count           48997.000000                    48262.000000   \n",
            "mean               59.425504                       59.357072   \n",
            "std               166.570218                      136.981709   \n",
            "min             -2153.437000                     -269.978000   \n",
            "25%                 0.069000                        0.825000   \n",
            "50%                 4.943000                        6.665000   \n",
            "75%                44.400000                       49.713500   \n",
            "max              8652.658000                     2648.773000   \n",
            "\n",
            "       total_deaths_per_million  ...    median_age  aged_65_older  \\\n",
            "count              42221.000000  ...  47384.000000   46851.000000   \n",
            "mean                 137.224569  ...     30.613085       8.834822   \n",
            "std                  254.053216  ...      9.118006       6.256572   \n",
            "min                    0.001000  ...     15.100000       1.144000   \n",
            "25%                    4.763000  ...     22.200000       3.466000   \n",
            "50%                   24.359000  ...     29.900000       6.614000   \n",
            "75%                  127.146000  ...     39.100000      14.312000   \n",
            "max                 1915.257000  ...     48.200000      27.049000   \n",
            "\n",
            "       aged_70_older  gdp_per_capita  cardiovasc_death_rate  \\\n",
            "count   47121.000000    47425.000000           47910.000000   \n",
            "mean        5.601666    19189.252280             256.117577   \n",
            "std         4.272645    19676.158926             118.451051   \n",
            "min         0.526000      661.240000              79.370000   \n",
            "25%         2.063000     4541.795000             164.905000   \n",
            "50%         3.871000    13111.214000             241.219000   \n",
            "75%         9.167000    27216.445000             325.721000   \n",
            "max        18.493000   116935.600000             724.417000   \n",
            "\n",
            "       diabetes_prevalence  handwashing_facilities  \\\n",
            "count         48478.000000            23922.000000   \n",
            "mean              7.764768               51.049020   \n",
            "std               3.893786               31.782855   \n",
            "min               0.990000                1.188000   \n",
            "25%               5.290000               20.859000   \n",
            "50%               7.110000               49.839000   \n",
            "75%              10.080000               83.241000   \n",
            "max              30.530000               98.999000   \n",
            "\n",
            "       hospital_beds_per_thousand  life_expectancy  human_development_index  \n",
            "count                44038.000000     49253.000000             47663.000000  \n",
            "mean                     3.042848        73.140820                 0.715722  \n",
            "std                      2.477231         7.554467                 0.153994  \n",
            "min                      0.100000        53.280000                 0.354000  \n",
            "25%                      1.300000        67.440000                 0.590000  \n",
            "50%                      2.400000        74.620000                 0.747000  \n",
            "75%                      4.000000        78.730000                 0.843000  \n",
            "max                     13.800000        86.750000                 0.953000  \n",
            "\n",
            "[8 rows x 26 columns]\n"
          ]
        }
      ],
      "execution_count": 7,
      "metadata": {
        "collapsed": true,
        "jupyter": {
          "source_hidden": false,
          "outputs_hidden": false
        },
        "nteract": {
          "transient": {
            "deleting": false
          }
        },
        "gather": {
          "logged": 1611753502294
        }
      }
    },
    {
      "cell_type": "markdown",
      "source": [
        "Korzystam z mojego cluster-ml i sprawdzam czy zasób istnieje na platformie Azure. "
      ],
      "metadata": {
        "nteract": {
          "transient": {
            "deleting": false
          }
        }
      }
    },
    {
      "cell_type": "code",
      "source": [
        "amlcompute_cluster_name = \"cluster-ml\"\n",
        "\n",
        "found = False\n",
        "cts = ws.compute_targets\n",
        "\n",
        "if amlcompute_cluster_name in cts and cts[amlcompute_cluster_name].type == 'AmlCompute':\n",
        "     found = True\n",
        "     print('Found existing training cluster.')\n",
        "     aml_remote_compute = cts[amlcompute_cluster_name]\n",
        "    \n",
        "if not found:\n",
        "     print('Creating not found')\n",
        "    \n",
        "print('Checking cluster status...')\n",
        "aml_remote_compute.wait_for_completion(show_output = True)"
      ],
      "outputs": [
        {
          "output_type": "stream",
          "name": "stdout",
          "text": [
            "Found existing training cluster.\n",
            "Checking cluster status...\n",
            "Succeeded\n",
            "AmlCompute wait for completion finished\n",
            "\n",
            "Minimum number of nodes requested have been provisioned\n"
          ]
        }
      ],
      "execution_count": 8,
      "metadata": {
        "collapsed": true,
        "jupyter": {
          "source_hidden": false,
          "outputs_hidden": false
        },
        "nteract": {
          "transient": {
            "deleting": false
          }
        },
        "gather": {
          "logged": 1611753505028
        }
      }
    },
    {
      "cell_type": "code",
      "source": [
        "from azureml.train import automl\n",
        "\n",
        "automl.utilities.get_primary_metrics('regression')"
      ],
      "outputs": [
        {
          "output_type": "execute_result",
          "execution_count": 9,
          "data": {
            "text/plain": "['spearman_correlation',\n 'r2_score',\n 'normalized_root_mean_squared_error',\n 'normalized_mean_absolute_error']"
          },
          "metadata": {}
        }
      ],
      "execution_count": 9,
      "metadata": {
        "collapsed": true,
        "jupyter": {
          "source_hidden": false,
          "outputs_hidden": false
        },
        "nteract": {
          "transient": {
            "deleting": false
          }
        },
        "gather": {
          "logged": 1611753507092
        }
      }
    },
    {
      "cell_type": "markdown",
      "source": [
        "Tworzę podstawową konfiguracje dla eksperymentu. Wykorzystam regresje w celu zbadania ilości zakażeń. "
      ],
      "metadata": {
        "nteract": {
          "transient": {
            "deleting": false
          }
        }
      }
    },
    {
      "cell_type": "code",
      "source": [
        "import logging\n",
        "import os\n",
        "\n",
        "from azureml.train.automl import AutoMLConfig\n",
        "\n",
        "project_folder = './'\n",
        "os.makedirs(project_folder, exist_ok=True)\n",
        "\n",
        "automl_config = AutoMLConfig(compute_target=aml_remote_compute,\n",
        "                             task='regression',\n",
        "                             primary_metric='r2_score',\n",
        "                             experiment_timeout_minutes=15,                            \n",
        "                             training_data=train_dataset,\n",
        "                             label_column_name=\"total_cases\",\n",
        "                             n_cross_validations=5,                                                 \n",
        "                             enable_early_stopping=True,\n",
        "                             featurization='auto',\n",
        "                             debug_log='automated_ml_errors.log',\n",
        "                             verbosity=logging.INFO,\n",
        "                             path=project_folder\n",
        "                             )"
      ],
      "outputs": [],
      "execution_count": 10,
      "metadata": {
        "collapsed": true,
        "jupyter": {
          "source_hidden": false,
          "outputs_hidden": false
        },
        "nteract": {
          "transient": {
            "deleting": false
          }
        },
        "gather": {
          "logged": 1611753508642
        }
      }
    },
    {
      "cell_type": "markdown",
      "source": [
        "Uruchamiam eksperyment, oznaczając go odpowiednią datą w celu dobrej dokumentacji na przyszłość. "
      ],
      "metadata": {
        "nteract": {
          "transient": {
            "deleting": false
          }
        }
      }
    },
    {
      "cell_type": "code",
      "source": [
        "from azureml.core import Experiment\n",
        "from datetime import datetime\n",
        "\n",
        "now = datetime.now()\n",
        "time_string = now.strftime(\"%m-%d-%Y-%H\")\n",
        "experiment_name = \"regress-automl-remote-{0}\".format(time_string)\n",
        "print(experiment_name)\n",
        "\n",
        "experiment = Experiment(workspace=ws, name=experiment_name)\n",
        "\n",
        "import time\n",
        "start_time = time.time()\n",
        "            \n",
        "run = experiment.submit(automl_config, show_output=True)\n",
        "\n",
        "\n",
        "print('Manual run timing: --- %s seconds needed for running the whole Remote AutoML Experiment ---' % (time.time() - start_time))"
      ],
      "outputs": [
        {
          "output_type": "stream",
          "name": "stdout",
          "text": [
            "regress-automl-remote-01-27-2021-13\n",
            "Running on remote.\n",
            "No run_configuration provided, running on cluster-ml with default configuration\n",
            "Running on remote compute: cluster-ml\n",
            "Parent Run ID: AutoML_3861647f-1d9f-4767-a5ae-5dac869598b7\n",
            "\n",
            "Current status: FeaturesGeneration. Generating features for the dataset.\n",
            "Current status: DatasetFeaturization. Beginning to fit featurizers and featurize the dataset.\n",
            "Current status: DatasetCrossValidationSplit. Generating individually featurized CV splits.\n",
            "Current status: ModelSelection. Beginning model selection.\n",
            "\n",
            "****************************************************************************************************\n",
            "DATA GUARDRAILS: \n",
            "\n",
            "TYPE:         Missing feature values imputation\n",
            "STATUS:       DONE\n",
            "DESCRIPTION:  If the missing values are expected, let the run complete. Otherwise cancel the current run and use a script to customize the handling of missing feature values that may be more appropriate based on the data type and business requirement.\n",
            "              Learn more about missing value imputation: https://aka.ms/AutomatedMLFeaturization\n",
            "DETAILS:      \n",
            "+---------------------------------+---------------------------------+---------------------------------+\n",
            "|Column name                      |Missing value count              |Imputation type                  |\n",
            "+=================================+=================================+=================================+\n",
            "|iso_code                         |291                              |                                 |\n",
            "|continent                        |574                              |                                 |\n",
            "|new_cases                        |6                                |mean                             |\n",
            "|new_cases_smoothed               |746                              |mean                             |\n",
            "|total_deaths                     |6791                             |mean                             |\n",
            "|new_deaths                       |6791                             |mean                             |\n",
            "|new_deaths_smoothed              |746                              |mean                             |\n",
            "|total_cases_per_million          |291                              |mean                             |\n",
            "|new_cases_per_million            |297                              |mean                             |\n",
            "|new_cases_smoothed_per_million   |1032                             |mean                             |\n",
            "|total_deaths_per_million         |7073                             |mean                             |\n",
            "|new_deaths_per_million           |7073                             |mean                             |\n",
            "|new_deaths_smoothed_per_million  |1032                             |mean                             |\n",
            "|reproduction_rate                |9127                             |mean                             |\n",
            "|icu_patients                     |43771                            |                                 |\n",
            "|icu_patients_per_million         |43771                            |                                 |\n",
            "|hosp_patients                    |42776                            |                                 |\n",
            "|new_tests_per_thousand           |26293                            |                                 |\n",
            "|new_tests_smoothed_per_thousand  |23396                            |                                 |\n",
            "|positive_rate                    |24619                            |                                 |\n",
            "|tests_per_case                   |24961                            |                                 |\n",
            "|tests_units                      |22584                            |                                 |\n",
            "|total_vaccinations_per_hundred   |48548                            |                                 |\n",
            "|stringency_index                 |5288                             |mean                             |\n",
            "|population                       |291                              |mean                             |\n",
            "|population_density               |1301                             |mean                             |\n",
            "|median_age                       |2406                             |mean                             |\n",
            "|aged_65_older                    |2933                             |mean                             |\n",
            "|aged_70_older                    |2662                             |mean                             |\n",
            "|gdp_per_capita                   |2359                             |mean                             |\n",
            "|extreme_poverty                  |17219                            |                                 |\n",
            "|cardiovasc_death_rate            |1813                             |mean                             |\n",
            "|diabetes_prevalence              |1306                             |mean                             |\n",
            "|female_smokers                   |11795                            |                                 |\n",
            "|male_smokers                     |12313                            |                                 |\n",
            "|handwashing_facilities           |25500                            |mean                             |\n",
            "|hospital_beds_per_thousand       |5676                             |mean                             |\n",
            "|life_expectancy                  |537                              |mean                             |\n",
            "|human_development_index          |2121                             |mean                             |\n",
            "+---------------------------------+---------------------------------+---------------------------------+\n",
            "\n",
            "****************************************************************************************************\n",
            "\n",
            "TYPE:         High cardinality feature detection\n",
            "STATUS:       DONE\n",
            "DESCRIPTION:  High cardinality features were detected in your inputs and handled.\n",
            "              Learn more about high cardinality feature handling: https://aka.ms/AutomatedMLFeaturization\n",
            "DETAILS:      High cardinality features refer to columns that contain a large percentage of unique values.\n",
            "+---------------------------------+---------------------------------+\n",
            "|Column name                      |Column Content Type              |\n",
            "+=================================+=================================+\n",
            "|icu_patients                     |categorical_hash                 |\n",
            "|icu_patients_per_million         |categorical_hash                 |\n",
            "|hosp_patients                    |categorical_hash                 |\n",
            "|new_tests_per_thousand           |categorical_hash                 |\n",
            "|new_tests_smoothed_per_thousand  |categorical_hash                 |\n",
            "|positive_rate                    |categorical_hash                 |\n",
            "|tests_per_case                   |categorical_hash                 |\n",
            "|total_vaccinations_per_hundred   |categorical_hash                 |\n",
            "+---------------------------------+---------------------------------+\n",
            "\n",
            "****************************************************************************************************\n",
            "\n",
            "****************************************************************************************************\n",
            "ITERATION: The iteration being evaluated.\n",
            "PIPELINE: A summary description of the pipeline being evaluated.\n",
            "DURATION: Time taken for the current iteration.\n",
            "METRIC: The result of computing score on the fitted pipeline.\n",
            "BEST: The best observed score thus far.\n",
            "****************************************************************************************************\n",
            "\n",
            " ITERATION   PIPELINE                                       DURATION      METRIC      BEST\n",
            "         0   MaxAbsScaler LightGBM                          0:01:08       0.9983    0.9983\n",
            "         1   MaxAbsScaler XGBoostRegressor                  0:02:03       0.9986    0.9986\n"
          ]
        }
      ],
      "execution_count": 11,
      "metadata": {
        "collapsed": true,
        "jupyter": {
          "source_hidden": false,
          "outputs_hidden": false
        },
        "nteract": {
          "transient": {
            "deleting": false
          }
        }
      }
    },
    {
      "cell_type": "markdown",
      "source": [
        "Tutaj suzkam najlepszego modelu. Dostaję błąd opisany wcześnej. "
      ],
      "metadata": {
        "nteract": {
          "transient": {
            "deleting": false
          }
        }
      }
    },
    {
      "cell_type": "code",
      "source": [
        "best_run, fitted_model = run.get_output()\n",
        "print(best_run)\n",
        "print(fitted_model)"
      ],
      "outputs": [
        {
          "output_type": "error",
          "ename": "ModuleNotFoundError",
          "evalue": "No module named 'azureml.automl.runtime._ml_engine.featurizer_suggestion'",
          "traceback": [
            "\u001b[0;31m---------------------------------------------------------------------------\u001b[0m",
            "\u001b[0;31mModuleNotFoundError\u001b[0m                       Traceback (most recent call last)",
            "\u001b[0;32m<ipython-input-15-7c988d9a2070>\u001b[0m in \u001b[0;36m<module>\u001b[0;34m\u001b[0m\n\u001b[1;32m      5\u001b[0m \u001b[0;34m\u001b[0m\u001b[0m\n\u001b[1;32m      6\u001b[0m \u001b[0;34m\u001b[0m\u001b[0m\n\u001b[0;32m----> 7\u001b[0;31m \u001b[0mbest_run\u001b[0m\u001b[0;34m,\u001b[0m \u001b[0mfitted_model\u001b[0m \u001b[0;34m=\u001b[0m \u001b[0mrun\u001b[0m\u001b[0;34m.\u001b[0m\u001b[0mget_output\u001b[0m\u001b[0;34m(\u001b[0m\u001b[0;34m)\u001b[0m\u001b[0;34m\u001b[0m\u001b[0;34m\u001b[0m\u001b[0m\n\u001b[0m\u001b[1;32m      8\u001b[0m \u001b[0mprint\u001b[0m\u001b[0;34m(\u001b[0m\u001b[0mbest_run\u001b[0m\u001b[0;34m)\u001b[0m\u001b[0;34m\u001b[0m\u001b[0;34m\u001b[0m\u001b[0m\n\u001b[1;32m      9\u001b[0m \u001b[0mprint\u001b[0m\u001b[0;34m(\u001b[0m\u001b[0mfitted_model\u001b[0m\u001b[0;34m)\u001b[0m\u001b[0;34m\u001b[0m\u001b[0;34m\u001b[0m\u001b[0m\n",
            "\u001b[0;32m/anaconda/envs/azureml_py36/lib/python3.6/site-packages/azureml/train/automl/run.py\u001b[0m in \u001b[0;36mget_output\u001b[0;34m(self, iteration, metric, return_onnx_model, return_split_onnx_model, **kwargs)\u001b[0m\n\u001b[1;32m    697\u001b[0m                     \u001b[0mfitted_model\u001b[0m \u001b[0;34m=\u001b[0m \u001b[0m_download_automl_onnx_model\u001b[0m\u001b[0;34m(\u001b[0m\u001b[0mcurr_run\u001b[0m\u001b[0;34m,\u001b[0m \u001b[0mmodel_name\u001b[0m\u001b[0;34m)\u001b[0m\u001b[0;34m\u001b[0m\u001b[0;34m\u001b[0m\u001b[0m\n\u001b[1;32m    698\u001b[0m                 \u001b[0;32melse\u001b[0m\u001b[0;34m:\u001b[0m\u001b[0;34m\u001b[0m\u001b[0;34m\u001b[0m\u001b[0m\n\u001b[0;32m--> 699\u001b[0;31m                     \u001b[0mfitted_model\u001b[0m \u001b[0;34m=\u001b[0m \u001b[0m_download_automl_model\u001b[0m\u001b[0;34m(\u001b[0m\u001b[0mcurr_run\u001b[0m\u001b[0;34m,\u001b[0m \u001b[0mmodel_name\u001b[0m\u001b[0;34m)\u001b[0m\u001b[0;34m\u001b[0m\u001b[0;34m\u001b[0m\u001b[0m\n\u001b[0m\u001b[1;32m    700\u001b[0m \u001b[0;34m\u001b[0m\u001b[0m\n\u001b[1;32m    701\u001b[0m             \u001b[0;32mreturn\u001b[0m \u001b[0mcurr_run\u001b[0m\u001b[0;34m,\u001b[0m \u001b[0mfitted_model\u001b[0m\u001b[0;34m\u001b[0m\u001b[0;34m\u001b[0m\u001b[0m\n",
            "\u001b[0;32m/anaconda/envs/azureml_py36/lib/python3.6/site-packages/azureml/train/automl/_model_download_utilities.py\u001b[0m in \u001b[0;36m_download_automl_model\u001b[0;34m(run, model_name)\u001b[0m\n\u001b[1;32m     85\u001b[0m             \u001b[0;31m# Pass through any exceptions from loading the model.\u001b[0m\u001b[0;34m\u001b[0m\u001b[0;34m\u001b[0m\u001b[0;34m\u001b[0m\u001b[0m\n\u001b[1;32m     86\u001b[0m             \u001b[0;31m# Try is used here to ensure we can cleanup the side effect of model downlad.\u001b[0m\u001b[0;34m\u001b[0m\u001b[0;34m\u001b[0m\u001b[0;34m\u001b[0m\u001b[0m\n\u001b[0;32m---> 87\u001b[0;31m             \u001b[0mmodel\u001b[0m \u001b[0;34m=\u001b[0m \u001b[0m_load_automl_model\u001b[0m\u001b[0;34m(\u001b[0m\u001b[0mmodel_path\u001b[0m\u001b[0;34m)\u001b[0m\u001b[0;34m\u001b[0m\u001b[0;34m\u001b[0m\u001b[0m\n\u001b[0m\u001b[1;32m     88\u001b[0m             \u001b[0;32mif\u001b[0m \u001b[0mmodel\u001b[0m \u001b[0;32mis\u001b[0m \u001b[0;32mNone\u001b[0m\u001b[0;34m:\u001b[0m\u001b[0;34m\u001b[0m\u001b[0;34m\u001b[0m\u001b[0m\n\u001b[1;32m     89\u001b[0m                 \u001b[0;31m# If we can retrieve the automl runtime version, we do so we can inform the user what to install.\u001b[0m\u001b[0;34m\u001b[0m\u001b[0;34m\u001b[0m\u001b[0;34m\u001b[0m\u001b[0m\n",
            "\u001b[0;32m/anaconda/envs/azureml_py36/lib/python3.6/site-packages/azureml/train/automl/_model_download_utilities.py\u001b[0m in \u001b[0;36m_load_automl_model\u001b[0;34m(model_path)\u001b[0m\n\u001b[1;32m    151\u001b[0m         \u001b[0;32mimport\u001b[0m \u001b[0mazureml\u001b[0m\u001b[0;34m.\u001b[0m\u001b[0mtrain\u001b[0m\u001b[0;34m.\u001b[0m\u001b[0mautoml\u001b[0m\u001b[0;34m.\u001b[0m\u001b[0mruntime\u001b[0m\u001b[0;34m\u001b[0m\u001b[0;34m\u001b[0m\u001b[0m\n\u001b[1;32m    152\u001b[0m         \u001b[0;32mwith\u001b[0m \u001b[0mopen\u001b[0m\u001b[0;34m(\u001b[0m\u001b[0mmodel_path\u001b[0m\u001b[0;34m,\u001b[0m \u001b[0;34m\"rb\"\u001b[0m\u001b[0;34m)\u001b[0m \u001b[0;32mas\u001b[0m \u001b[0mmodel_file\u001b[0m\u001b[0;34m:\u001b[0m\u001b[0;34m\u001b[0m\u001b[0;34m\u001b[0m\u001b[0m\n\u001b[0;32m--> 153\u001b[0;31m             \u001b[0mfitted_model\u001b[0m \u001b[0;34m=\u001b[0m \u001b[0mpickle\u001b[0m\u001b[0;34m.\u001b[0m\u001b[0mload\u001b[0m\u001b[0;34m(\u001b[0m\u001b[0mmodel_file\u001b[0m\u001b[0;34m)\u001b[0m  \u001b[0;31m# type: Optional[Any]\u001b[0m\u001b[0;34m\u001b[0m\u001b[0;34m\u001b[0m\u001b[0m\n\u001b[0m\u001b[1;32m    154\u001b[0m             \u001b[0;32mreturn\u001b[0m \u001b[0mfitted_model\u001b[0m\u001b[0;34m\u001b[0m\u001b[0;34m\u001b[0m\u001b[0m\n\u001b[1;32m    155\u001b[0m     \u001b[0;32mexcept\u001b[0m \u001b[0mImportError\u001b[0m \u001b[0;32mas\u001b[0m \u001b[0me\u001b[0m\u001b[0;34m:\u001b[0m\u001b[0;34m\u001b[0m\u001b[0;34m\u001b[0m\u001b[0m\n",
            "\u001b[0;31mModuleNotFoundError\u001b[0m: No module named 'azureml.automl.runtime._ml_engine.featurizer_suggestion'"
          ]
        }
      ],
      "execution_count": 15,
      "metadata": {
        "collapsed": true,
        "jupyter": {
          "source_hidden": false,
          "outputs_hidden": false
        },
        "nteract": {
          "transient": {
            "deleting": false
          }
        }
      }
    },
    {
      "cell_type": "code",
      "source": [
        "import pandas as pd\n",
        "\n",
        "if 'price' in test_dataset_df.columns:\n",
        "    y_test_df = test_dataset_df.pop('total_cases')\n",
        "\n",
        "x_test_df = test_dataset_df"
      ],
      "outputs": [],
      "execution_count": null,
      "metadata": {
        "collapsed": true,
        "jupyter": {
          "source_hidden": false,
          "outputs_hidden": false
        },
        "nteract": {
          "transient": {
            "deleting": false
          }
        }
      }
    },
    {
      "cell_type": "markdown",
      "source": [
        "Predykcja na zbiorze testowym, któru uprzednio stworzyłem. "
      ],
      "metadata": {
        "nteract": {
          "transient": {
            "deleting": false
          }
        }
      }
    },
    {
      "cell_type": "code",
      "source": [
        "y_predictions = fitted_model.predict(x_test_df)\n",
        "\n",
        "print('10 predictions: ')\n",
        "print(y_predictions[:10])"
      ],
      "outputs": [],
      "execution_count": null,
      "metadata": {
        "collapsed": true,
        "jupyter": {
          "source_hidden": false,
          "outputs_hidden": false
        },
        "nteract": {
          "transient": {
            "deleting": false
          }
        }
      }
    },
    {
      "cell_type": "markdown",
      "source": [
        "Wyliczenie wartości r2_score. "
      ],
      "metadata": {
        "nteract": {
          "transient": {
            "deleting": false
          }
        }
      }
    },
    {
      "cell_type": "code",
      "source": [
        "from sklearn.metrics import r2_score\n",
        "\n",
        "print('Result: r2 score')\n",
        "r2_score(y_test_df, y_predictions)"
      ],
      "outputs": [],
      "execution_count": null,
      "metadata": {
        "collapsed": true,
        "jupyter": {
          "source_hidden": false,
          "outputs_hidden": false
        },
        "nteract": {
          "transient": {
            "deleting": false
          }
        }
      }
    }
  ],
  "metadata": {
    "kernelspec": {
      "name": "python3-azureml",
      "language": "python",
      "display_name": "Python 3.6 - AzureML"
    },
    "language_info": {
      "name": "python",
      "version": "3.6.9",
      "mimetype": "text/x-python",
      "codemirror_mode": {
        "name": "ipython",
        "version": 3
      },
      "pygments_lexer": "ipython3",
      "nbconvert_exporter": "python",
      "file_extension": ".py"
    },
    "kernel_info": {
      "name": "python3-azureml"
    },
    "nteract": {
      "version": "nteract-front-end@1.0.0"
    }
  },
  "nbformat": 4,
  "nbformat_minor": 2
}